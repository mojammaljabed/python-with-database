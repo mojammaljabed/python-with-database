{
 "cells": [
  {
   "cell_type": "code",
   "execution_count": 1,
   "id": "hundred-windsor",
   "metadata": {},
   "outputs": [
    {
     "name": "stdout",
     "output_type": "stream",
     "text": [
      "Date:  2020-03-01\n",
      "Max:  224.0\n",
      "Min:  0.0\n",
      "Avg:  1.098259853655537\n",
      "Date:  2017-01-01\n",
      "Max:  224.0\n",
      "Min:  0.0\n",
      "Avg:  0.873857551234046\n",
      "Date:  2020-03-01\n",
      "Max:  224.0\n",
      "Min:  0.0\n",
      "Avg:  0.14748462883296992\n",
      "Date:  2020-03-01\n",
      "Max:  224.0\n",
      "Min:  0.0\n",
      "Avg:  0.4774881138517502\n",
      "Date:  2017-01-01\n",
      "Max:  224.0\n",
      "Min:  0.0\n",
      "Avg:  0.6814464996283178\n",
      "Date:  2017-01-01\n",
      "Max:  224.0\n",
      "Min:  0.0\n",
      "Avg:  0.6326606157518295\n",
      "Date:  2017-01-01\n",
      "Max:  221.0\n",
      "Min:  0.0\n",
      "Avg:  1.8937921083843832\n",
      "Date:  2017-01-01\n",
      "Max:  224.0\n",
      "Min:  0.0\n",
      "Avg:  12.007262137125508\n",
      "Date:  2017-01-01\n",
      "Max:  224.0\n",
      "Min:  11.0\n",
      "Avg:  0.6326606157518295\n"
     ]
    }
   ],
   "source": [
    "import json\n",
    "import mysql.connector\n",
    "mydb=mysql.connector.connect(host=\"localhost\", user=\"root\", passwd=\"\", database=\"earthquake\")\n",
    "mycursor = mydb.cursor()\n",
    "mycursor.execute(\"select * from data\")\n",
    "result= mycursor.fetchall()\n",
    "for i in result:\n",
    "    print(\"Date: \",i[1])\n",
    "    print(\"Max: \",i[2])\n",
    "    print(\"Min: \",i[3])\n",
    "    print(\"Avg: \",i[4])\n"
   ]
  },
  {
   "cell_type": "code",
   "execution_count": 2,
   "id": "boring-capitol",
   "metadata": {},
   "outputs": [
    {
     "name": "stdout",
     "output_type": "stream",
     "text": [
      "Enter the action\n",
      "i for insert\n",
      "u for update\n",
      "un for update-no-conflict\n",
      "u\n"
     ]
    }
   ],
   "source": [
    "myJsonFile=open('data.json','r')\n",
    "jsonData=myJsonFile.read();\n",
    "obj=json.loads(jsonData)\n",
    "action=input(\"Enter the action\\ni for insert\\nu for update\\nun for update-no-conflict\\n\")\n",
    "if action=='i':\n",
    "    insert()\n",
    "elif action=='u':\n",
    "    mycursor.execute(\"select uuid from data\")\n",
    "    result= mycursor.fetchall()\n",
    "    for i in range(len(obj)):\n",
    "        uuid=obj[i]['uuid']\n",
    "        date=obj[i]['data']\n",
    "        maxi=obj[i]['max']\n",
    "        mini=obj[i]['min']\n",
    "        avg=obj[i]['avg']\n",
    "        for j in range(len(result)):\n",
    "            if float(uuid) == result[j]:\n",
    "                s=\"update data (date,max,min,avg) values (%s,%s,%s,%s) where uuid=%s\"\n",
    "                inData=(date,maxi,mini,avg,uuid)\n",
    "                mycursor.execute(s,inData)\n",
    "    \n",
    "elif action=='un':\n",
    "    update_no_conflict()\n",
    "\n",
    "def insert():\n",
    "    for i in range(len(obj)):\n",
    "        uuid=obj[i]['uuid']\n",
    "        date=obj[i]['data']\n",
    "        maxi=obj[i]['max']\n",
    "        mini=obj[i]['min']\n",
    "        avg=obj[i]['avg']\n",
    "        inData=(uuid,date,maxi,mini,avg)\n",
    "        s=\"insert into data (uuid,date,max,min,avg) values (%s,%s,%s,%s,%s)\" \n",
    "        mycursor.execute(s,inData)\n",
    "\n",
    "    \n"
   ]
  },
  {
   "cell_type": "code",
   "execution_count": null,
   "id": "explicit-chocolate",
   "metadata": {},
   "outputs": [],
   "source": [
    "\n"
   ]
  },
  {
   "cell_type": "code",
   "execution_count": null,
   "id": "bearing-encoding",
   "metadata": {},
   "outputs": [],
   "source": []
  }
 ],
 "metadata": {
  "kernelspec": {
   "display_name": "Python 3",
   "language": "python",
   "name": "python3"
  },
  "language_info": {
   "codemirror_mode": {
    "name": "ipython",
    "version": 3
   },
   "file_extension": ".py",
   "mimetype": "text/x-python",
   "name": "python",
   "nbconvert_exporter": "python",
   "pygments_lexer": "ipython3",
   "version": "3.6.5"
  }
 },
 "nbformat": 4,
 "nbformat_minor": 5
}
